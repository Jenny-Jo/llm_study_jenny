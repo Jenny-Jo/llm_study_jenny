{
 "cells": [
  {
   "cell_type": "code",
   "execution_count": 1,
   "metadata": {},
   "outputs": [],
   "source": [
    "import enum\n",
    "\n",
    "class OPENAI_LLMs(enum.Enum):\n",
    "  gpt_4o_mini = (enum.auto(), \"gpt-4o-mini\") \n",
    "  gpt_4o = (enum.auto(), \"gpt-4o\") \n",
    "  gpt_4o1 = (enum.auto(), \"gpt-4o1\") "
   ]
  },
  {
   "cell_type": "code",
   "execution_count": 2,
   "metadata": {},
   "outputs": [],
   "source": [
    "llm_name = \"gpt_4o_mini\""
   ]
  },
  {
   "cell_type": "code",
   "execution_count": 3,
   "metadata": {},
   "outputs": [
    {
     "data": {
      "text/plain": [
       "['gpt_4o_mini', 'gpt_4o', 'gpt_4o1']"
      ]
     },
     "execution_count": 3,
     "metadata": {},
     "output_type": "execute_result"
    }
   ],
   "source": [
    "list(OPENAI_LLMs.__members__)"
   ]
  },
  {
   "cell_type": "code",
   "execution_count": 5,
   "metadata": {},
   "outputs": [
    {
     "name": "stdout",
     "output_type": "stream",
     "text": [
      "gpt_4o_mini\n",
      "gpt_4o\n",
      "gpt_4o1\n"
     ]
    }
   ],
   "source": [
    "for member in OPENAI_LLMs.__members__:\n",
    "  print(member)"
   ]
  },
  {
   "cell_type": "code",
   "execution_count": 6,
   "metadata": {},
   "outputs": [],
   "source": [
    "if llm_name not in OPENAI_LLMs.__members__:\n",
    "  print(\"어서와~\")"
   ]
  },
  {
   "cell_type": "code",
   "execution_count": 7,
   "metadata": {},
   "outputs": [
    {
     "data": {
      "text/plain": [
       "'gpt_4o_mini'"
      ]
     },
     "execution_count": 7,
     "metadata": {},
     "output_type": "execute_result"
    }
   ],
   "source": [
    "OPENAI_LLMs[llm_name].name"
   ]
  },
  {
   "cell_type": "code",
   "execution_count": 8,
   "metadata": {},
   "outputs": [],
   "source": [
    "import requests\n",
    "\n",
    "url = \"https://huggingface.co/api/models\"\n",
    "\n",
    "result = requests.get(url)"
   ]
  },
  {
   "cell_type": "code",
   "execution_count": 9,
   "metadata": {},
   "outputs": [],
   "source": [
    "import json \n",
    "\n",
    "lst = json.loads(result.text)"
   ]
  },
  {
   "cell_type": "code",
   "execution_count": 10,
   "metadata": {},
   "outputs": [
    {
     "data": {
      "text/plain": [
       "1000"
      ]
     },
     "execution_count": 10,
     "metadata": {},
     "output_type": "execute_result"
    }
   ],
   "source": [
    "len(lst)"
   ]
  },
  {
   "cell_type": "markdown",
   "metadata": {},
   "source": [
    "# [올라마 설치](https://ollama.com/download/windows)"
   ]
  },
  {
   "cell_type": "markdown",
   "metadata": {},
   "source": [
    "# [올라마 예제](https://velog.io/@boyunj0226/%EB%A1%9C%EC%BB%AC%EC%97%90%EC%84%9C-llm-%EC%B1%97%EB%B4%87-%ED%8E%98%EC%9D%B4%EC%A7%80-%EB%A7%8C%EB%93%A4%EA%B8%B0-Ollama-streamlit)"
   ]
  },
  {
   "cell_type": "code",
   "execution_count": 1,
   "metadata": {},
   "outputs": [
    {
     "name": "stderr",
     "output_type": "stream",
     "text": [
      "C:\\Users\\Playdata\\AppData\\Local\\Temp\\ipykernel_6500\\3201386680.py:6: LangChainDeprecationWarning: The class `ChatOllama` was deprecated in LangChain 0.3.1 and will be removed in 1.0.0. An updated version of the class exists in the :class:`~langchain-ollama package and should be used instead. To use it run `pip install -U :class:`~langchain-ollama` and import as `from :class:`~langchain_ollama import ChatOllama``.\n",
      "  llm = ChatOllama(model=\"gemma3:1b\")\n"
     ]
    },
    {
     "name": "stdout",
     "output_type": "stream",
     "text": [
      "독도는 역사적, 지리적, 국제법적으로 명백한 대한민국 영토입니다. \n",
      "\n",
      "좀 더 자세히 설명하자면 다음과 같습니다.\n",
      "\n",
      "*   **역사적 근거:**\n",
      "    *   **조선 왕조 시대:** 조선 왕조 시대에 조선의 왕족이 독도를 '우리 땅'이라고 주장하며 확보했습니다.\n",
      "    *   **개경왕의 탐험:** 19세기 개경왕이 독도를 탐험하며 조선의 영토임을 확인했습니다.\n",
      "    *   **대한제국:** 대한제국 때, 조선의 영토로 인정되었습니다.\n",
      "*   **지리적 근거:**\n",
      "    *   독도는 동경 18도 30초에서 30도 15초 정도의 지점에 위치하며, 동쪽 끝자락은 한국의 영토입니다.\n",
      "    *   독도는 지리적 특성이 뛰어나고, 해류와 바람의 영향을 받아 수평선 너머로 뻗어 있는 섬입니다.\n",
      "*   **국제법적 근거:**\n",
      "    *   **1966년 UN 결의:** 대한민국은 독도를 '우리 영토'로 규정하고, 독도에 대한 영유권을 주장하고 있습니다.\n",
      "    *   **1970년 UN 안전 보장 결의:** 독도에 대한 영유권 분쟁을 중재하기 위한 결의가 내려졌습니다.\n",
      "    *   **국제법상 영토:** 국제법적으로는 독도가 대한민국 영토임을 인정하고 있습니다.\n",
      "\n",
      "**참고:** 독도에 대한 논쟁은 끊이지 않지만, 대한민국의 영토로서의 명확한 입장을 견지하고 있습니다.\n",
      "\n",
      "더 궁금한 점이 있으시면 언제든지 질문해주세요.\n"
     ]
    }
   ],
   "source": [
    "from langchain_community.chat_models import ChatOllama\n",
    "from langchain_core.output_parsers import StrOutputParser\n",
    "from langchain_core.prompts import ChatPromptTemplate\n",
    "\n",
    "# Ollama 모델을 불러옵니다. (local PC에 다운 받은 모델)\n",
    "llm = ChatOllama(model=\"gemma3:1b\")\n",
    "\n",
    "# 프롬프트\n",
    "prompt = ChatPromptTemplate.from_template(\"{message}\")\n",
    "\n",
    "# 체인 생성\n",
    "chain = prompt | llm | StrOutputParser()\n",
    "\n",
    "# 간결성을 위해 응답은 터미널에 출력됩니다.\n",
    "answer = chain.invoke({\"message\": \"독도는 누구땅?\"})\n",
    "\n",
    "print(answer)"
   ]
  },
  {
   "cell_type": "code",
   "execution_count": 3,
   "metadata": {},
   "outputs": [
    {
     "name": "stdout",
     "output_type": "stream",
     "text": [
      "독도는 역사적, 지리적, 국제법적으로 명백한 대한민국 영토입니다.\n",
      "\n",
      "좀 더 자세히 설명하자면 다음과 같습니다.\n",
      "\n",
      "*   **역사적 맥락:** 독도는 기원전 3세기경에 한반도에 떨어진 왜구의 침왜성 섬으로, 이후 한국에게 할로윈 섬으로 알려졌습니다. 1900년, 일본의 일본군이 독도에 군사적 기지를 설치하면서 양국 간의 분쟁이 발생했습니다.\n",
      "*   **지리적 위치:** 독도는 동쪽으로 남मित선 180도 경계, 서쪽으로 130도 경계에 위치하며, 해역의 70% 이상이 대한민국 영토에 속합니다.\n",
      "*   **국제법적 근거:**  1969년, 국제해양법협약에 따라 독도는 대한민국 영토로 인정받고 있습니다.\n",
      "\n",
      "독도는 대한민국 국민의 혈肉이며, 역사와 지리적, 법적인 근거를 통해 대한민국 영토로 인정받고 있습니다.\n",
      "\n",
      "혹시 독도에 대해 더 궁금한 점이 있으신가요? 예를 들어 특정 역사적 사건이나 국제법적 논쟁에 대해 질문해주시면 답변해 드릴 수 있습니다."
     ]
    }
   ],
   "source": [
    "from langchain_community.chat_models import ChatOllama\n",
    "from langchain_core.output_parsers import StrOutputParser\n",
    "from langchain_core.prompts import ChatPromptTemplate\n",
    "import time\n",
    "\n",
    "# Ollama 모델을 불러옵니다.\n",
    "llm = ChatOllama(model=\"gemma3:1b\")\n",
    "\n",
    "# 프롬프트\n",
    "chat_prompt = ChatPromptTemplate.from_messages([\n",
    "    (\"assistant\", \"이 시스템은 천문학 질문에 답변할 수 있습니다.\"),\n",
    "    (\"user\", \"{user_input}\"),\n",
    "])\n",
    "\n",
    "# 체인 생성\n",
    "chain = chat_prompt | llm | StrOutputParser()\n",
    "\n",
    "for token in chain.stream({\"user_input\": \"독도는 누구땅?\"}):\n",
    "    # 스트림에서 받은 데이터의 내용을 출력합니다. 줄바꿈 없이 이어서 출력하고, 버퍼를 즉시 비웁니다.\n",
    "    print(token, end=\"\", flush=True)\n",
    "    time.sleep(0.05)"
   ]
  },
  {
   "cell_type": "markdown",
   "metadata": {},
   "source": [
    "# [올라마 다른 예제](https://fornewchallenge.tistory.com/entry/Ollama-Langchain-Streamlit%EC%9C%BC%EB%A1%9C-%EB%8C%80%EA%B7%9C%EB%AA%A8-%EC%96%B8%EC%96%B4-%EB%AA%A8%EB%8D%B8-%EA%B8%B0%EB%B0%98-PDF-%EC%B1%97%EB%B4%87-%EB%A7%8C%EB%93%A4%EA%B8%B0)"
   ]
  },
  {
   "cell_type": "code",
   "execution_count": 2,
   "metadata": {},
   "outputs": [],
   "source": [
    "def ask(question, message_history=[], model=\"gpt-3.5-turbo\"):\n",
    "    if len(message_history) == 0:\n",
    "        # 최초 질문\n",
    "        message_history.append(\n",
    "            {\n",
    "                \"role\": \"system\",\n",
    "                \"content\": \"You are a helpful assistant. You must answer in Korean.\",\n",
    "            }\n",
    "        )\n",
    "\n",
    "    # 사용자 질문 추가\n",
    "    message_history.append(\n",
    "        {\n",
    "            \"role\": \"user\",\n",
    "            \"content\": question,\n",
    "        },\n",
    "    )\n",
    "\n",
    "    # GPT에 질문을 전달하여 답변을 생성\n",
    "    completion = client.chat.completions.create(\n",
    "        model=model,\n",
    "        messages=message_history,\n",
    "    )\n",
    "\n",
    "    # 사용자 질문에 대한 답변을 추가\n",
    "    message_history.append(\n",
    "        {\"role\": \"assistant\", \"content\": completion.choices[0].message.content}\n",
    "    )\n",
    "\n",
    "    return message_history"
   ]
  }
 ],
 "metadata": {
  "kernelspec": {
   "display_name": ".venv",
   "language": "python",
   "name": "python3"
  },
  "language_info": {
   "codemirror_mode": {
    "name": "ipython",
    "version": 3
   },
   "file_extension": ".py",
   "mimetype": "text/x-python",
   "name": "python",
   "nbconvert_exporter": "python",
   "pygments_lexer": "ipython3",
   "version": "3.12.8"
  }
 },
 "nbformat": 4,
 "nbformat_minor": 2
}
